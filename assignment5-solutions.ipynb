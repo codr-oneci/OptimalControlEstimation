{
 "cells": [
  {
   "cell_type": "markdown",
   "metadata": {
    "id": "ISkxvv64AkXZ"
   },
   "source": [
    "# Assignment 5"
   ]
  },
  {
   "cell_type": "code",
   "execution_count": null,
   "metadata": {
    "id": "P6gBJBSz6b4T"
   },
   "outputs": [],
   "source": [
    "import copy\n",
    "import warnings\n",
    "%matplotlib inline\n",
    "import matplotlib.pyplot as plt\n",
    "from matplotlib import animation\n",
    "import numpy as np\n",
    "\n",
    "import scipy.linalg\n",
    "import scipy.signal\n",
    "from scipy.integrate import odeint\n",
    "\n",
    "import ipywidgets as widgets \n",
    "from IPython.display import display, HTML, Math\n",
    "\n",
    "from sympy import Matrix, latex, init_printing\n",
    "init_printing()\n",
    "\n",
    "# try:\n",
    "#   import control\n",
    "# except ModuleNotFoundError:\n",
    "#   print(\"Could not find control - installing\")\n",
    "#   !pip install control # takes 20 sec\n",
    "#   !pip install slycot # takes 2-3 min\n",
    "# import control\n",
    "\n",
    "float_formatter = \"{:.6f}\".format\n",
    "np.set_printoptions(formatter={'float': '{: 0.6f}'.format})\n",
    "np.set_printoptions(precision=6)\n",
    "plt.rcParams[\"font.serif\"] = \"cmr12\"\n",
    "plt.rcParams[\"figure.dpi\"] = 150"
   ]
  },
  {
   "cell_type": "markdown",
   "metadata": {
    "id": "7X3BZ7vnediy"
   },
   "source": [
    "## Solution 1 <font color='red' size=3>[10 points total]</font>\n",
    "\n",
    "Using dynamic programming yields the minimum-time path shown\n",
    "below.  The associated minimum time is 18.  Since this graph has\n",
    "no negative length cycles, by the Principal of Optimality, dynamic\n",
    "programming is guaranteed to yield the optimal answer.\n",
    "\n",
    "The \"forward greedy\" approach yields a cost of 19.\n",
    "\n",
    "<div align=\"center\">\n",
    "  <img src=\"http://drive.google.com/uc?export=view&id=1pT6JAJyM3V-HT5uOe1UDZpiozSFE6oFn\" alt=\"problem description\" width=\"60%\" />\n",
    "</div>\n",
    "\n",
    "| <font color='red'>Grading Issue</font> | <font color='red'>Point Deduction</font> |\n",
    "|----------------------------------------|------------------------------------------|\n",
    "| missing/incorrect DP solution              | -5                                       |\n",
    "| missing/incorrect forward greedy cost  | -5                                       |\n",
    "\n",
    "<!-- Using dynamic programming yields the minimum-time path shown\n",
    "below.  The associated minimum time is 11.  Since this graph has\n",
    "no negative length cycles, by the Principal of Optimality, dynamic\n",
    "programming is guaranteed to yield the optimal answer. \n",
    "\n",
    "Regarding\n",
    "the greedy solutions, there are three different valid greedy paths\n",
    "depending on how to tie-break. The travel times for those\n",
    "solutions are 12, 16, and 19.\n",
    "\n",
    "<div align=\"center\">\n",
    "  <img src=\"http://drive.google.com/uc?export=view&id=158nzSwsZOilPoQYH3MKHazIG-ouF4PQ8\" alt=\"problem description\" width=\"60%\" />\n",
    "</div> -->"
   ]
  },
  {
   "cell_type": "markdown",
   "metadata": {
    "id": "7X3BZ7vnediy"
   },
   "source": [
    "$\n",
    "\\renewcommand{\\jmatc}[4]{\\left[ \\ba{cc} #1 & #2 \\\\[.5em] #3 & #4 \\ea\n",
    "\\right]}\n",
    "\\newcommand{\\jmatr}[4]{\\left[ \\ba{rr} #1 & #2 \\\\[.5em] #3 & #4 \\ea\n",
    "\\right]}\n",
    "\\newcommand{\\jmthr}[9]{\\left[ \\ba{rrr} #1 & #2 & #3 \\\\\n",
    "#4 & #5 & #6 \\\\ #7 & #8 & #9\\ea \\right]}\n",
    "\\newcommand{\\jvthr}[3]{\\left[ \\ba{r} #1 \\\\ #2 \\\\ #3\\ea \\right]}\n",
    "\\newcommand{\\jhthr}[3]{\\left[ \\ba{rrr} #1 & #2 & #3\\ea \\right]}\n",
    "\\newcommand{\\jvechc}[2]{\\left[ \\ba{cc} #1 & #2 \\ea \\right]}\n",
    "\\newcommand{\\jcolc}[2]{\\left[ \\ba{c} #1 \\\\ #2 \\ea \\right]}\n",
    "\\newcommand{\\jvecvc}[2]{\\left[ \\ba{c} #1 \\\\ #2 \\ea \\right]}\n",
    "\\newcommand{\\bmat}{\\begin{bmatrix}}\n",
    "\\newcommand{\\emat}{\\end{bmatrix}}\n",
    "\\newcommand{\\expect}[1]{\\expec\\left[ #1 \\right]}\n",
    "\\newcommand{\\mb}{\\mathbf}\n",
    "\\newcommand{\\argmax}{\\operatornamewithlimits{argmax}}\n",
    "\\newcommand{\\argmin}{\\operatornamewithlimits{argmin}}\n",
    "\\newcommand{\\bea}{\\begin{eqnarray}}\n",
    "\\newcommand{\\eea}{\\end{eqnarray}}\n",
    "\\newcommand{\\beas}{\\begin{eqnarray*}}\n",
    "\\newcommand{\\eeas}{\\end{eqnarray*}}\n",
    "\\newcommand{\\ba}{\\begin{array}}\n",
    "\\newcommand{\\ea}{\\end{array}}\n",
    "\\newcommand{\\njbv}{\\mathbf{v}}\n",
    "\\newcommand{\\njbw}{\\mathbf{w}}\n",
    "\\newcommand{\\njbx}{\\mathbf{x}}\n",
    "\\newcommand{\\njby}{\\mathbf{y}}\n",
    "$\n",
    "$\n",
    "\\newcommand{\\rxx}{R_{xx}}\n",
    "\\newcommand{\\ruu}{R_{uu}}\n",
    "$\n",
    "\n",
    "## Solution 2 <font color='red' size=3>[10 points total]</font>"
   ]
  },
  {
   "cell_type": "markdown",
   "metadata": {
    "id": "6l8CeEBbcv6s"
   },
   "source": [
    "For this tracking problem we want $y(t) = r(t)$ as $t \\rightarrow \\infty$.\n",
    "\n",
    "1. The naive implementation $u=r-Kx$ gives the following closed-loop system,\n",
    "\\begin{eqnarray}\n",
    "\\dot x &=& (A-BK)x + B r \\\\\n",
    "y &=& C x\n",
    "\\end{eqnarray}\n",
    "with LQR gains (e.g., from MATLAB `lqr` or Python [`control.lqr`](https://python-control.readthedocs.io/en/0.8.3/generated/control.lqr.html)) of $K=\\left[\\!\\begin{array}{c c} \n",
    "15.3193 & 52.0217 \\end{array} \\!\\right]$.  The transfer function \n",
    "from $r$ to $y$ becomes, \n",
    "$$\n",
    "G(s) = \\frac{y(s)}{r(s)} = \\frac{s-2}{s^2+12.32s+22.38}\n",
    "$$\n",
    "So we can expect that the steady-state value of $y$, denoted as \n",
    "$y_{ss}$, with respect to a unit step $r$ will be,\n",
    "$$\n",
    "y_{ss} = -\\frac{2}{22.38} = -0.089\n",
    "$$\n",
    "This can be seen in the figure below.  Therefore, $u=r-Kx$ is a very \n",
    "bad choice for a tracking controller, even for a unit step reference \n",
    "trajectory.\n",
    "\n",
    "2. An alternate controller using $u=Nr-Kx$ results in the \n",
    "following closed-loop system,\n",
    "\\begin{eqnarray}\n",
    "\\dot x &=& (A-BK)x + B N r \\\\\n",
    "y &=& C x\n",
    "\\end{eqnarray}\n",
    "So the transfer function from $r$ to $y$ becomes,\n",
    "$$\n",
    "G(s) = \\frac{(s-2)N}{s^2 + 12.32s + 22.38}\n",
    "$$\n",
    "Choosing N so that $y_{ss} = r$, gives,\n",
    "$$\n",
    "G(s) = \\frac{(s-2)N}{s^2 + 12.32s + 22.38} = 1 \\longrightarrow N = \n",
    "\\frac{1}{y_{ss}} = -\\frac{22.38}{2} = -11.19\n",
    "$$\n",
    "The figure below shows the improved performance of this new tracking \n",
    "controller.\n",
    "\n",
    "3. Using the LQ-Servo controller gives the following dynamics,\n",
    "\\begin{eqnarray}\n",
    "\\left[\\!\\begin{array}{c} \\dot x \\\\ \\dot x_i \\end{array} \\!\\right] \n",
    "&=& \\left[\\!\\begin{array}{c c} A & 0 \\\\ -C & 0 \\end{array} \n",
    "\\!\\right]\\left[\\!\\begin{array}{c} x \\\\ x_i \\end{array} \\!\\right] + \n",
    "\\left[\\!\\begin{array}{c} B \\\\ 0 \\end{array} \\!\\right] u + \n",
    "\\left[\\!\\begin{array}{c} 0 \\\\ 1 \\end{array} \\!\\right] r \\\\\n",
    "y &=& \\left[\\!\\begin{array}{c c} C & 0 \\end{array} \\!\\right] \n",
    "\\left[\\!\\begin{array}{c} x \\\\ x_i \\end{array} \\!\\right]\n",
    "\\end{eqnarray}\n",
    "Applying LQR with,\n",
    "\\begin{eqnarray}\n",
    "\\tilde A = \\left[\\!\\begin{array}{c c} A & 0 \\\\ -C & 0 \\end{array} \n",
    "\\!\\right], \\tilde B = \\left[\\!\\begin{array}{c} B \\\\ 0 \\end{array} \n",
    "\\!\\right], \\tilde \\rxx = \\left[\\!\\begin{array}{c c} \\rxx & 0 \\\\ 0 & \n",
    "R_{ii} \\end{array} \\!\\right], \\tilde \\ruu = \\ruu\n",
    "\\end{eqnarray}\n",
    "we can tune $R_{ii}$ until we have a similar performance to the \n",
    "technique in part B.  We find that with $R_{ii} = 10^5$ we get a \n",
    "similar settling time to that of Part B.  One advantage of this \n",
    "approach over that of Part B is that it can be adjusted to \n",
    "accommodate less aggressive control strategies that will still \n",
    "result in a zero steady-state error.  This would be useful, for \n",
    "example, if there are saturation limits on the control.\n",
    "\n",
    "<br>\n",
    "\n",
    "| <font color='red'>Grading Issue</font>     | <font color='red'>Point Deduction</font> |\n",
    "|--------------------------------------------|------------------------------------------|\n",
    "| incorrect $K$                              | -2                                       |\n",
    "| incorrect analysis of poor step tracking   | -2                                       |\n",
    "| incorrect value of $N$                     | -2                                       |\n",
    "| incorrect application of LQ-Servo          | -2                                       |\n",
    "| missing code / transient response analysis | -2                                       |"
   ]
  },
  {
   "cell_type": "code",
   "execution_count": null,
   "metadata": {
    "colab": {
     "base_uri": "https://localhost:8080/",
     "height": 913
    },
    "executionInfo": {
     "elapsed": 1278,
     "status": "ok",
     "timestamp": 1619211201111,
     "user": {
      "displayName": "Jonathan How",
      "photoUrl": "https://lh3.googleusercontent.com/a-/AOh14GiLNnJYgBpzQQozBm-BaS4zBKlaQEQa39WYawXVaw=s64",
      "userId": "07882044077368082882"
     },
     "user_tz": 240
    },
    "id": "0wV_x6Xrc1JU",
    "outputId": "87bfdd9d-7fd5-4673-920c-85c2ff2156aa"
   },
   "outputs": [
    {
     "name": "stdout",
     "output_type": "stream",
     "text": [
      "LQR gain for first two tracking schemes\n"
     ]
    },
    {
     "data": {
      "text/latex": [
       "$$F=\\left[\\begin{matrix}15.3193 & 52.0217\\end{matrix}\\right]$$"
      ],
      "text/plain": [
       "<IPython.core.display.Math object>"
      ]
     },
     "metadata": {
      "tags": []
     },
     "output_type": "display_data"
    },
    {
     "name": "stdout",
     "output_type": "stream",
     "text": [
      "\n",
      "\n",
      "\n",
      "\n",
      "Gain N for second tracking scheme\n"
     ]
    },
    {
     "data": {
      "text/latex": [
       "$$N=-11.1915$$"
      ],
      "text/plain": [
       "<IPython.core.display.Math object>"
      ]
     },
     "metadata": {
      "tags": []
     },
     "output_type": "display_data"
    },
    {
     "name": "stdout",
     "output_type": "stream",
     "text": [
      "\n",
      "\n",
      "\n",
      "\n",
      "Gain for LQ-servo\n"
     ]
    },
    {
     "data": {
      "text/latex": [
       "$$\\tilde{F}=\\left[\\begin{matrix}85.1722 & 6654.2575 & 3162.2777\\end{matrix}\\right]$$"
      ],
      "text/plain": [
       "<IPython.core.display.Math object>"
      ]
     },
     "metadata": {
      "tags": []
     },
     "output_type": "display_data"
    },
    {
     "name": "stdout",
     "output_type": "stream",
     "text": [
      "\n",
      "\n",
      "\n",
      "\n"
     ]
    },
    {
     "data": {
      "image/png": "[encoded data removed]",
      "text/plain": [
       "<Figure size 900x600 with 1 Axes>"
      ]
     },
     "metadata": {
      "needs_background": "light",
      "tags": []
     },
     "output_type": "display_data"
    }
   ],
   "source": [
    "# System model\n",
    "A = np.array([[1,1],[1,2]])\n",
    "B = np.array([[1],[0]])\n",
    "C = np.array([[1,0]])\n",
    "t = np.linspace(0,3,2000)\n",
    "x0 = np.array([[0,0]])\n",
    "x0i = np.array([[0,0,0]])\n",
    "\n",
    "# LQR gains\n",
    "Rxx = np.eye(2)\n",
    "Ruu = 0.01\n",
    "\n",
    "# Solve CARE\n",
    "P = scipy.linalg.solve_continuous_are(A,B,Rxx,Ruu)\n",
    "\n",
    "# Compute LQR gain\n",
    "F = np.linalg.inv(np.atleast_2d(Ruu)) @ B.T @ P\n",
    "print(\"LQR gain for first two tracking schemes\")\n",
    "display(Math(rf'F={latex(Matrix(np.round(F,4)))}'))\n",
    "print(\"\\n\\n\\n\")\n",
    "\n",
    "\n",
    "\n",
    "# Closed-loop step response for u = r - Fx\n",
    "Gcl = scipy.signal.StateSpace(A-B@F, B, C)\n",
    "t, y1 = scipy.signal.step(Gcl,x0,t)\n",
    "\n",
    "# Closed-loop step response for u = Nr - Fx\n",
    "with warnings.catch_warnings():\n",
    "  warnings.simplefilter('ignore')\n",
    "  tf = Gcl.to_tf()\n",
    "N = np.atleast_2d([tf.den[2] / tf.num[1]])\n",
    "print(\"Gain N for second tracking scheme\")\n",
    "display(Math(rf'N={np.round(N[0,0],4)}'))\n",
    "print(\"\\n\\n\\n\")\n",
    "Gcl = scipy.signal.StateSpace(A-B@F, B@N, C)\n",
    "t, y2 = scipy.signal.step(Gcl,x0,t)\n",
    "\n",
    "\n",
    "\n",
    "# LQ-servoing\n",
    "Atilde = np.block([[A, np.zeros((2,1))],[-C, 0]])\n",
    "Btilde = np.block([[B],[0]])\n",
    "Br = np.block([[np.zeros_like(B)],[1]])\n",
    "Ctilde = np.block([[C, 0]])\n",
    "Rii = 1e5\n",
    "Rxxtilde = scipy.linalg.block_diag(Rxx, Rii)\n",
    "\n",
    "# Solve CARE\n",
    "Ptilde = scipy.linalg.solve_continuous_are(Atilde,Btilde,Rxxtilde,Ruu)\n",
    "\n",
    "# Compute LQR gain\n",
    "Ftilde = np.linalg.inv(np.atleast_2d(Ruu)) @ Btilde.T @ Ptilde\n",
    "print(\"Gain for LQ-servo\")\n",
    "display(Math(rf'\\tilde{{F}}={latex(Matrix(np.round(Ftilde,4)))}'))\n",
    "print(\"\\n\\n\\n\")\n",
    "\n",
    "# Closed-loop step response for LQ-servo\n",
    "Gcl = scipy.signal.StateSpace(Atilde-Btilde@Ftilde, Br, Ctilde)\n",
    "t, y3 = scipy.signal.step(Gcl,x0i,t)\n",
    "\n",
    "\n",
    "\n",
    "# Response plots\n",
    "fig, ax = plt.subplots()\n",
    "ax.plot(t,y1,t,y2,t,y3)\n",
    "ax.grid()\n",
    "ax.set_xlabel('Time [s]')\n",
    "ax.set_ylabel('y(t)')\n",
    "ax.set_title('Step Response for Different Tracking Schemes')\n",
    "ax.legend(['r-Kx', 'Nr-Kx', 'LQ-Servo']);"
   ]
  },
  {
   "cell_type": "markdown",
   "metadata": {
    "id": "oinAKMdniM1W"
   },
   "source": [
    "$\n",
    "\\renewcommand{\\jmatc}[4]{\\left[ \\ba{cc} #1 & #2 \\\\[.5em] #3 & #4 \\ea\n",
    "\\right]}\n",
    "\\newcommand{\\jmatr}[4]{\\left[ \\ba{rr} #1 & #2 \\\\[.5em] #3 & #4 \\ea\n",
    "\\right]}\n",
    "\\newcommand{\\jmthr}[9]{\\left[ \\ba{rrr} #1 & #2 & #3 \\\\\n",
    "#4 & #5 & #6 \\\\ #7 & #8 & #9\\ea \\right]}\n",
    "\\newcommand{\\jvthr}[3]{\\left[ \\ba{r} #1 \\\\ #2 \\\\ #3\\ea \\right]}\n",
    "\\newcommand{\\jhthr}[3]{\\left[ \\ba{rrr} #1 & #2 & #3\\ea \\right]}\n",
    "\\newcommand{\\jvechc}[2]{\\left[ \\ba{cc} #1 & #2 \\ea \\right]}\n",
    "\\newcommand{\\jcolc}[2]{\\left[ \\ba{c} #1 \\\\ #2 \\ea \\right]}\n",
    "\\newcommand{\\jvecvc}[2]{\\left[ \\ba{c} #1 \\\\ #2 \\ea \\right]}\n",
    "\\newcommand{\\bmat}{\\begin{bmatrix}}\n",
    "\\newcommand{\\emat}{\\end{bmatrix}}\n",
    "\\newcommand{\\expect}[1]{\\expec\\left[ #1 \\right]}\n",
    "\\newcommand{\\mb}{\\mathbf}\n",
    "\\newcommand{\\argmax}{\\operatornamewithlimits{argmax}}\n",
    "\\newcommand{\\argmin}{\\operatornamewithlimits{argmin}}\n",
    "\\newcommand{\\bea}{\\begin{eqnarray}}\n",
    "\\newcommand{\\eea}{\\end{eqnarray}}\n",
    "\\newcommand{\\beas}{\\begin{eqnarray*}}\n",
    "\\newcommand{\\eeas}{\\end{eqnarray*}}\n",
    "\\newcommand{\\ba}{\\begin{array}}\n",
    "\\newcommand{\\ea}{\\end{array}}\n",
    "\\newcommand{\\njbv}{\\mathbf{v}}\n",
    "\\newcommand{\\njbw}{\\mathbf{w}}\n",
    "\\newcommand{\\njbx}{\\mathbf{x}}\n",
    "\\newcommand{\\njby}{\\mathbf{y}}\n",
    "$\n",
    "\n",
    "## Solution 3 <font color='red' size=3>[10 points total]</font>\n",
    "\n",
    "The transfer function for the plant is given by\n",
    "$$\n",
    "G(s)=\\frac{-s+3}{(-s+4)(s+3)}=\\frac{s-3}{s^{2}-s-12}\n",
    "$$\n",
    "To convert this transfer function to state space we have that\n",
    "$$\n",
    "G(s)=\\frac{Y(s)}{U(s)}=\\frac{Y(s)}{X(s)} \\frac{X(s)}{U(s)}=\\frac{s-3}{s^{2}-s-12}\n",
    "$$\n",
    "and one option is to separate the system into\n",
    "$$\n",
    "\\frac{Y(s)}{X(s)}=s-3 \\Rightarrow Y(s)=s X(s)-3 X(s) \\Rightarrow y=\\dot{x}-3 x\n",
    "$$\n",
    "and\n",
    "$$\n",
    "\\frac{X(s)}{U(s)}=\\frac{1}{s^{2}-s-12} \\Rightarrow s^{2} X(s)-s X(s)-12 X(s)=U(s) \\Rightarrow \\ddot{x}-\\dot{x}-12 x=u\n",
    "$$\n",
    "\n",
    "Using $x_{1}=x$ and $x_{2}=\\dot{x}$ gives,\n",
    "$$\n",
    "\\begin{aligned}\n",
    "\\dot{x}_{1} &=x_{2} \\\\\n",
    "\\dot{x}_{2} &=x_{2}+12 x_{1}+u \\\\\n",
    "y &=x_{2}-3 x_{1}\n",
    "\\end{aligned}\n",
    "$$\n",
    "Writing these equations in state space form gives\n",
    "$$\n",
    "\\begin{aligned}\n",
    "{\\left[\\begin{array}{l}\n",
    "\\dot{x}_{1} \\\\\n",
    "\\dot{x}_{2}\n",
    "\\end{array}\\right] } &=\\left[\\begin{array}{cc}\n",
    "0 & 1 \\\\\n",
    "12 & 1\n",
    "\\end{array}\\right]\\left[\\begin{array}{l}\n",
    "x_{1} \\\\\n",
    "x_{2}\n",
    "\\end{array}\\right]+\\left[\\begin{array}{l}\n",
    "0 \\\\\n",
    "1\n",
    "\\end{array}\\right] u+\\left[\\begin{array}{l}\n",
    "0 \\\\\n",
    "1\n",
    "\\end{array}\\right] w \\\\\n",
    "y &=\\left[\\begin{array}{ll}\n",
    "-3 & 1\n",
    "\\end{array}\\right]\\left[\\begin{array}{l}\n",
    "x_{1} \\\\\n",
    "x_{2}\n",
    "\\end{array}\\right]+v\n",
    "\\end{aligned}\n",
    "$$\n",
    "\n",
    "1. As stated in slide 21-13,\n",
    "$$\n",
    "\\bar{J}=\\operatorname{Tr}\\left\\{P_{s s} L_{s s} R_{v v} L_{s s}^{T}+Q_{s s} R_{x x}\\right\\}=\\operatorname{Tr}\\left\\{P_{s s} B_{w} R_{w w} B_{w}^{T}+Q_{s s} K_{s s}^{T} R_{u u} K_{s s}\\right\\}\n",
    "$$\n",
    "which shows that there is a tradeoff between the estimation and regulation errors. As a rule of thumb, $R_{x x}, R_{u u}, R_{w w}$, and $R_{v v}$ should be chosen so that the performance contributions due to the estimation and regulation errors are comparable. For this problem the following values provide similar contributions for $\\operatorname{Tr}\\left\\{P_{s s} L_{s s} R_{v v} L_{s s}^{T}\\right\\}$ and $\\operatorname{Tr}\\left\\{Q_{s s} R_{x x}\\right\\}$,\n",
    "$$\n",
    "\\begin{aligned}\n",
    "R_{x x} &=\\left[\\begin{array}{ll}\n",
    "5 & 0 \\\\\n",
    "0 & 5\n",
    "\\end{array}\\right] \\\\\n",
    "R_{u u} &=0.005 \\\\\n",
    "R_{w w} &=1 \\\\\n",
    "R_{v v} &=.1\n",
    "\\end{aligned}\n",
    "$$\n",
    "\n",
    "2. For these choices of the weighting matrices and the state space system defined above,\n",
    "$$\n",
    "\\begin{aligned}\n",
    "A_{c} &=A-B_{u} K-L C_{y}=\\left[\\begin{array}{cc}\n",
    "27.2971 & -8.0990 \\\\\n",
    "75.3652 & -69.4513\n",
    "\\end{array}\\right] \\\\\n",
    "B_{c} &=L=\\left[\\begin{array}{c}\n",
    "9.0990 \\\\\n",
    "36.3961\n",
    "\\end{array}\\right] \\\\\n",
    "C_{c} &=K=\\left[\\begin{array}{ll}\n",
    "45.8231 & 34.0552\n",
    "\\end{array}\\right]\n",
    "\\end{aligned}\n",
    "$$\n",
    "The compensator transfer function is given by $G(s)=C_{c}\\left(s I-A_{c}\\right)^{-1} B_{c}$. For this compensator the poles are at $s=-62.6665$ and $s=20.5123$ and the zero is at $s=-3$.\n",
    "\n",
    "3. As seen in Figure 1 the compensator pulls the unstable poles into the left half plane. The design looks much like a classical lead compensator which is what we would expect for this kind of unstable plant. Using LQG instead of designing a lead controller by hand facilitates the compensator design process, and by appropriately choosing $R_{x x}, R_{u u}, R_{w w}$, and $R_{v v}$ we can effectively place the closed loop poles anywhere in the left half plane (assuming full controllability and observability). For this plant and compensator, the closed loop poles of the system are at $s=-31.9982, s=-5.0990, s=-3.0000$, and $s=-1.0570$ and thus the closed loop system is stable (as expected).\n",
    "\n",
    "\n",
    "<div align=\"center\">\n",
    "  <img src=\"https://drive.google.com/uc?export=view&id=1k-9ygi1jv3T6vIeuqabnC3w-oaDTIY94\" alt=\"problem description\" width=\"25%\" />\n",
    "</div>\n",
    "\n",
    "\n",
    "\n",
    "| <font color='red'>Grading Issue</font>                | <font color='red'>Point Deduction</font> |\n",
    "|-------------------------------------------------------|------------------------------------------|\n",
    "| missing/incorrect discussion on the weighting matrices              | -2                                       |\n",
    "| missing/incorrect compensator matrices (note that your result may change depending on the weighting matrices chosen) | -2      |\n",
    "| missing/incorrect compensator poles and zeros (note that your result may change depending on the weighting matrices chosen) | -2      |\n",
    "| missing/incorrect classical interpretration of your state-space controller            | -2                                       |"
   ]
  },
  {
   "cell_type": "markdown",
   "metadata": {
    "id": "nwL3WC6QvDxH"
   },
   "source": [
    "## Solution 4 <font color='red' size=3>[10 points total]</font>"
   ]
  },
  {
   "cell_type": "code",
   "execution_count": null,
   "metadata": {
    "colab": {
     "base_uri": "https://localhost:8080/",
     "height": 870
    },
    "executionInfo": {
     "elapsed": 2295,
     "status": "ok",
     "timestamp": 1619211202134,
     "user": {
      "displayName": "Jonathan How",
      "photoUrl": "https://lh3.googleusercontent.com/a-/AOh14GiLNnJYgBpzQQozBm-BaS4zBKlaQEQa39WYawXVaw=s64",
      "userId": "07882044077368082882"
     },
     "user_tz": 240
    },
    "id": "pnF4XJD1HwUW",
    "outputId": "c50adf67-4efb-489e-c8de-0599a9fccd34"
   },
   "outputs": [
    {
     "name": "stdout",
     "output_type": "stream",
     "text": [
      "System 1\n",
      "The optimal gain is\n"
     ]
    },
    {
     "data": {
      "text/latex": [
       "$$F=\\left[\\begin{matrix}5.6619 & 6.6758\\end{matrix}\\right]$$"
      ],
      "text/plain": [
       "<IPython.core.display.Math object>"
      ]
     },
     "metadata": {
      "tags": []
     },
     "output_type": "display_data"
    },
    {
     "name": "stdout",
     "output_type": "stream",
     "text": [
      "The steady-state Riccati matrix is\n"
     ]
    },
    {
     "data": {
      "text/latex": [
       "$$P=\\left[\\begin{matrix}0.0616 & 0.0566\\\\0.0566 & 0.0668\\end{matrix}\\right]$$"
      ],
      "text/plain": [
       "<IPython.core.display.Math object>"
      ]
     },
     "metadata": {
      "tags": []
     },
     "output_type": "display_data"
    },
    {
     "name": "stdout",
     "output_type": "stream",
     "text": [
      "The closed-loop eigenvalues are\n"
     ]
    },
    {
     "data": {
      "text/latex": [
       "$$λ=-1.103,-10.5728$$"
      ],
      "text/plain": [
       "<IPython.core.display.Math object>"
      ]
     },
     "metadata": {
      "tags": []
     },
     "output_type": "display_data"
    },
    {
     "name": "stdout",
     "output_type": "stream",
     "text": [
      "\n",
      "\n",
      "System 2\n",
      "The optimal gain is\n"
     ]
    },
    {
     "data": {
      "text/latex": [
       "$$F=\\left[\\begin{matrix}5.6619 & 6.6758\\end{matrix}\\right]$$"
      ],
      "text/plain": [
       "<IPython.core.display.Math object>"
      ]
     },
     "metadata": {
      "tags": []
     },
     "output_type": "display_data"
    },
    {
     "name": "stdout",
     "output_type": "stream",
     "text": [
      "The steady-state Riccati matrix is\n"
     ]
    },
    {
     "data": {
      "text/latex": [
       "$$P=\\left[\\begin{matrix}2.0616 & 0.0566\\\\0.0566 & 0.0668\\end{matrix}\\right]$$"
      ],
      "text/plain": [
       "<IPython.core.display.Math object>"
      ]
     },
     "metadata": {
      "tags": []
     },
     "output_type": "display_data"
    },
    {
     "name": "stdout",
     "output_type": "stream",
     "text": [
      "The closed-loop eigenvalues are\n"
     ]
    },
    {
     "data": {
      "text/latex": [
       "$$λ=-1.103,-10.5728$$"
      ],
      "text/plain": [
       "<IPython.core.display.Math object>"
      ]
     },
     "metadata": {
      "tags": []
     },
     "output_type": "display_data"
    },
    {
     "data": {
      "image/png": "[encoded data removed]",
      "text/plain": [
       "<Figure size 900x600 with 3 Axes>"
      ]
     },
     "metadata": {
      "needs_background": "light",
      "tags": []
     },
     "output_type": "display_data"
    }
   ],
   "source": [
    "# LQR gains\n",
    "Rzz = 1\n",
    "Ruu = ρ = 0.01\n",
    "\n",
    "#\n",
    "# System 1 Model\n",
    "#\n",
    "\n",
    "A = np.array([[0,1],[-6,-5]])\n",
    "B = np.array([[0],[1]])\n",
    "Cz = np.array([[1,1]])\n",
    "\n",
    "# Solve CARE\n",
    "Rxx = Cz.T @ np.atleast_2d(Rzz) @ Cz\n",
    "P = scipy.linalg.solve_continuous_are(A,B,Rxx,Ruu)\n",
    "\n",
    "# Compute LQR gain\n",
    "F = np.linalg.inv(np.atleast_2d(Ruu)) @ B.T @ P\n",
    "\n",
    "# Closed-loop poles\n",
    "Acl = A - B @ F\n",
    "λ, _ = np.linalg.eig(Acl)\n",
    "\n",
    "# Closed-loop response\n",
    "x0 = np.array([[1],[0]])\n",
    "#Gcl = scipy.signal.StateSpace(Acl, np.zeros_like(B), Cz)\n",
    "Gcl = scipy.signal.StateSpace(Acl, np.zeros_like(B), np.vstack((Cz,np.eye(2))))\n",
    "t, z1 = scipy.signal.impulse(Gcl,x0,N=1000)\n",
    "\n",
    "# Output\n",
    "print(\"System 1\")\n",
    "print(\"The optimal gain is\")\n",
    "display(Math(rf'F={latex(Matrix(np.round(F,4)))}'))\n",
    "print(\"The steady-state Riccati matrix is\")\n",
    "display(Math(rf'P={latex(Matrix(np.round(P,4)))}'))\n",
    "print(\"The closed-loop eigenvalues are\")\n",
    "display(Math(rf'λ={np.round(λ[0],4)},{np.round(λ[1],4)}'))\n",
    "\n",
    "#\n",
    "# System 2 Model\n",
    "#\n",
    "\n",
    "A = np.array([[0,1],[-6,-5]])\n",
    "B = np.array([[0],[1]])\n",
    "Cz = np.array([[1,-1]])\n",
    "\n",
    "# Solve CARE\n",
    "Rxx = Cz.T @ np.atleast_2d(Rzz) @ Cz\n",
    "P = scipy.linalg.solve_continuous_are(A,B,Rxx,Ruu)\n",
    "\n",
    "# Compute LQR gain\n",
    "F = np.linalg.inv(np.atleast_2d(Ruu)) @ B.T @ P\n",
    "\n",
    "# Closed-loop poles\n",
    "Acl = A - B @ F\n",
    "λ, _ = np.linalg.eig(Acl)\n",
    "\n",
    "# Closed-loop response\n",
    "x0 = np.array([[1],[0]])\n",
    "#Gcl = scipy.signal.StateSpace(Acl, np.zeros_like(B), Cz)\n",
    "Gcl = scipy.signal.StateSpace(Acl, np.zeros_like(B), np.vstack((Cz,np.eye(2))))\n",
    "t, z2 = scipy.signal.impulse(Gcl,x0,N=1000)\n",
    "\n",
    "# Output\n",
    "print(\"\\n\\nSystem 2\")\n",
    "print(\"The optimal gain is\")\n",
    "display(Math(rf'F={latex(Matrix(np.round(F,4)))}'))\n",
    "print(\"The steady-state Riccati matrix is\")\n",
    "display(Math(rf'P={latex(Matrix(np.round(P,4)))}'))\n",
    "print(\"The closed-loop eigenvalues are\")\n",
    "display(Math(rf'λ={np.round(λ[0],4)},{np.round(λ[1],4)}'))\n",
    "\n",
    "# Response plots\n",
    "f, (ax1, ax2, ax3) = plt.subplots(3, 1, sharex=True)\n",
    "ax1.plot(t,z1[:,0],t,z2[:,0])\n",
    "ax1.grid()\n",
    "ax1.legend(['System 1', 'System 2']);\n",
    "ax2.plot(t,z1[:,1],'b')\n",
    "ax2.plot(t,z2[:,1],'r--')\n",
    "ax2.grid()\n",
    "ax2.legend(['$x_1^1$', '$x_1^2$']);\n",
    "ax3.plot(t,z1[:,2],'b')\n",
    "ax3.plot(t,z2[:,2],'r--')\n",
    "ax3.grid()\n",
    "ax3.legend(['$x_2^1$', '$x_2^2$']);"
   ]
  },
  {
   "cell_type": "markdown",
   "metadata": {
    "id": "X0VMRUvBIDw8"
   },
   "source": [
    "The reason the gains for the two systems are the same but the responses differ can be understood in terms of the symmetric root locus (SRL).\n",
    "\n",
    "System 1 has the transfer function from $u$ to $z$ as\n",
    "$$\n",
    "G_{zu}^1(s) = \\frac{s+1}{(s+2)(s+3)}\n",
    "$$\n",
    "whereas the transfer function for System 2 is\n",
    "$$\n",
    "G_{zu}^2(s) = \\frac{-s+1}{(s+2)(s+3)}\n",
    "$$\n",
    "\n",
    "Then\n",
    "$$\n",
    "\\Delta(s) = 1 + \\frac{1}{\\rho}G_{zu}(-s)G_{zu}(s) = 0\n",
    "$$\n",
    "gives SRL.\n",
    "\n",
    "Both systems have the same SRL, therefore the closed-loop optimal poles will be the same. Therefore, gains will be the same because they have the same $A$ and $B$. However, performance is different because System 2 has a right-half plane zero (non-minimum phase). This is reflected in the initial \"wrong way\" behavior of the response of System 2 and in the much larger $P_{11}$ element of System 2. In fact, this larger $P_{11}$ indicates the cost-to-go is much larger for System 2 starting from the initial condition.\n",
    "\n",
    "Note that even though $x(t)$ are the same in these two cases, the first system has a component of the response that has been designed to be less observable in the cost $z_1(t)$ - this would correspond to a near pole/zero cancellation in the SRL (zero at $-1$, closed-loop pole at $-1.1$). \n",
    "\n",
    "The second system on the otherhand has the same dynamic response (pole at $-1.1$), but the corresponding zero is at $s=1$ now - there is no near loss of observability and the entire state response can be seen.\n",
    "\n",
    "This highlights the fact that the performance can be improved by both *speeding up the response*  (making the poles faster) and by making it unobservable in the performance variables. LQR is smart and does both! \n",
    "\n",
    "So you have to pick the performance objective well.\n",
    "\n",
    "<br>\n",
    "\n",
    "| <font color='red'>Grading Issue</font>                | <font color='red'>Point Deduction</font> |\n",
    "|-------------------------------------------------------|------------------------------------------|\n",
    "| missing/incorrect $F$, $P$, $\\lambda$ for system 1              | -2                                       |\n",
    "| missing/incorrect $F$, $P$, $\\lambda$ for system 2              | -2                                       |\n",
    "| missing/incorrect system response code/plots                    | -2                                       |\n",
    "| missing/incorrect discussion about different performance in $z$ | -2                                       |"
   ]
  },
  {
   "cell_type": "markdown",
   "metadata": {
    "id": "ZYlxSM3w6b4b"
   },
   "source": [
    "## Solution 5 <font color='red' size=3>[10 points total]</font>\n",
    "\n",
    "1. The Hamiltonian for this system is given by $H=(u-t)^2+pu$. The necessary condition on $\\dot{p}$ gives\n",
    "$$\n",
    "\\dot{p}=-H_x^\\top=0 \\implies p = const.\n",
    "$$\n",
    "Therefore $p$ is constant for all time $0\\le t\\le2$.\n",
    "<br><br>\n",
    "2. Ignoring the control constraint we have,\n",
    "$$\n",
    "H_u = 0 \\implies 2u-2t+p=0 \\implies u=t-\\frac{p}{2}.\n",
    "$$\n",
    "Integrating the dynamics gives\n",
    "$$\n",
    "\\dot{x}=u \\implies x(t) = \\frac{t^2}{2}-\\frac{p}{2}t + c_2.\n",
    "$$\n",
    "Applying the initial condition gives\n",
    "$$\n",
    "x(2)=2-p+\\frac{1}{8}=1 \\implies p=\\frac{9}{8}.\n",
    "$$\n",
    "For this value of $p$, the control becomes $u(t)=t-\\frac{9}{16}$ which violates the constraint $u(t)\\le1$ for $\\frac{25}{16}< t\\le2$.\n",
    "<br><br>\n",
    "3. Now assume $u(t)=1$ for $0\\leq t\\leq2$. Integrating the dynamics gives\n",
    "$$\n",
    "\\dot{x}=1 \\implies x(t) = t + c.\n",
    "$$\n",
    "Applying the initial condition gives\n",
    "$$\n",
    "x(0) = c = \\frac{1}{8}.\n",
    "$$\n",
    "At $t=2$, $x$ becomes\n",
    "$$\n",
    "x(2) = 2 + \\frac{1}{8} \\neq 1,\n",
    "$$\n",
    "which violates the boundary condition $x(2)=1$.\n",
    "<br><br>\n",
    "4. Since we start with the constraint being inactive, from part (b) we have that\n",
    "$$\n",
    "u(t)=t-\\frac{p}{2} \\implies p(t) = -2(u(t)-t).\n",
    "$$\n",
    "At the switch time $t_s$, the constraint on the control becomes active, so\n",
    "$$\n",
    "u(t_s) = 1 \\implies p(t_s) = -2(1-t_s).\n",
    "$$\n",
    "Since $p$ is constant, then $p=-2(1-t_s)$ has only one solution for $t_s$.\n",
    "<br><br>\n",
    "5. For $0\\leq t\\leq t_s$ we have $u=t-\\frac{p}{2}$ so the dynamics become\n",
    "$$\n",
    "\\dot{x}=u \\implies x(t)=\\frac{t^2}{2} - \\frac{p}{2}t + c_2.\n",
    "$$\n",
    "Applying the initial condition gives\n",
    "$$\n",
    "x(0) = c_2 = \\frac{1}{8} \\implies x(t) = \\frac{t^2}{2} - \\frac{p}{2}t + \\frac{1}{8}\n",
    "$$\n",
    "At $t_s$ we have that\n",
    "$$\n",
    "\\begin{align}\n",
    "x(t_s)\n",
    "&= \\frac{t_s^2}{2} - \\frac{p}{2}t_s + \\frac{1}{8} \\\\\n",
    "&= \\frac{t_s^2}{2} - \\frac{-2(1-t_s)}{2}t_s + \\frac{1}{8} \\\\\n",
    "&= \\frac{-t_s^2}{2} + t_s + \\frac{1}{8}\n",
    "\\end{align}\n",
    "$$\n",
    "From $t_s\\leq t \\leq2$ we have that $u=1$ so the dynamics become\n",
    "$$\n",
    "\\dot{x}=1 \\implies x(t) = t + c\n",
    "$$\n",
    "Applying the boundary condition $x(2)=1$ gives \n",
    "$$\n",
    "x(2)=2+c=1 \\implies c = -1 \\implies x(t) = t - 1.\n",
    "$$\n",
    "By continuity of $x$ at $t_s$ we have that\n",
    "$$\n",
    "\\begin{align}\n",
    "\\frac{-t_s^2}{2} + t_s + \\frac{1}{8} &= t_s - 1 \\\\\n",
    "\\frac{-t_s^2}{2} + \\frac{1}{8} &= - 1 \\\\\n",
    "\\frac{-t_s^2}{2} &= \\frac{9}{8} \\\\\n",
    "t_s &= \\frac{3}{2} \\\\\n",
    "\\end{align}\n",
    "$$\n",
    "Finally, $x(t_s)=\\frac{3}{2}-1=\\frac{1}{2}$.\n",
    "\n",
    "<br>\n",
    "\n",
    "| <font color='red'>Grading Issue</font>                                   | <font color='red'>Point Deduction</font> |\n",
    "|--------------------------------------------------------------------------|------------------------------------------|\n",
    "| did not use necessary condition on costate dynamics to show $p$ constant | -2                                       |\n",
    "| incorrect control for part 2 (should violate constraints)                | -2                                       |\n",
    "| incorrect state integration (should violate boundary condition)          | -2                                       |\n",
    "| did not show corner time relation to costate as desired                  | -2                                       |\n",
    "| did not show that $t_s=3/2$                                              | -1                                       |\n",
    "| did not calculate $x(t_s)$                                               | -1                                       |"
   ]
  }
 ],
 "metadata": {
  "colab": {
   "collapsed_sections": [],
   "name": "hw5-solutions.ipynb",
   "provenance": []
  },
  "kernelspec": {
   "display_name": "Python 3 (ipykernel)",
   "language": "python",
   "name": "python3"
  },
  "language_info": {
   "codemirror_mode": {
    "name": "ipython",
    "version": 3
   },
   "file_extension": ".py",
   "mimetype": "text/x-python",
   "name": "python",
   "nbconvert_exporter": "python",
   "pygments_lexer": "ipython3",
   "version": "3.8.10"
  }
 },
 "nbformat": 4,
 "nbformat_minor": 4
}
