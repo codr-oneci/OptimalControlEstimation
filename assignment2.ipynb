{
 "cells": [
  {
   "cell_type": "markdown",
   "metadata": {
    "id": "XxrQETJ3hwKP"
   },
   "source": [
    "# **Assignment 2: Homework and Lab**\n",
    "\n",
    "- **Assigned:** Friday, February 18\n",
    "- **Due:** Friday, March 4 at 5pm\n",
    "\n",
    "Remember that you need to submit two files to CANVAS: \n",
    "* This notebook, containing all the code you implemented\n",
    "* A pdf with your answers to the questions\n",
    "\n",
    "# Homework"
   ]
  },
  {
   "cell_type": "code",
   "execution_count": null,
   "metadata": {
    "id": "w5JWaie0CLcM"
   },
   "outputs": [],
   "source": [
    "#%matplotlib inline\n",
    "import numpy as np\n",
    "import matplotlib\n",
    "import matplotlib.pyplot as plt\n",
    "matplotlib.rcParams.update({'font.size': 10})\n",
    "from matplotlib import cm\n",
    "from matplotlib.ticker import LinearLocator, FormatStrFormatter\n",
    "from matplotlib import gridspec\n",
    "from scipy.linalg import expm\n",
    "from scipy.linalg import solve_discrete_lyapunov\n",
    "from scipy.linalg import sqrtm\n",
    "\n",
    "np.set_printoptions(precision=3)\n",
    "import math\n",
    "plt.rcParams[\"font.serif\"] = \"cmr14\"\n",
    "plt.rcParams['savefig.dpi'] = 300\n",
    "plt.rcParams[\"figure.dpi\"] = 150"
   ]
  },
  {
   "cell_type": "markdown",
   "metadata": {
    "id": "sUZEwDoxhwKU"
   },
   "source": [
    "## Problem 1 <a name=\"p1\"></a>\n",
    "\n",
    "In the calculus of variations problem, where the goal is to minimize\n",
    "\n",
    "$$\n",
    "J = \\int_{t_0}^{t_f} g(x,\\dot{x},t)dt\n",
    "$$\n",
    "\n",
    "we showed that the first-order necessary condition is the Euler equation\n",
    "\n",
    "$$\n",
    "\\frac{\\partial g}{\\partial x} - \\frac{d}{dt} \\frac{\\partial g}{\\partial \\dot{x}} = 0,\n",
    "$$\n",
    "\n",
    "subject to various (assumed to be well defined) initial and terminal conditions, depending on the problem statement. Now consider the following:\n",
    "\n",
    "1. If we can write $g\\to g(\\dot{x})$ (i.e., the function $g$ is not an explicit function of $x$ or time), show that there always exists a solution that is a linear function of time.\n",
    "\n",
    "2. If we can write $g\\to g(x,\\dot{x})$ (i.e., the function $g$ is not an explicit function of time), show that\n",
    "\n",
    "$$\n",
    "g - \\dot{x}\\frac{\\partial g}{\\partial \\dot{x}} = \\mathrm{constant}\n",
    "$$"
   ]
  },
  {
   "cell_type": "markdown",
   "metadata": {
    "id": "gZ--NE2ShwKT"
   },
   "source": [
    "$\n",
    "\\newcommand{\\njbu}{\\mathbf{u}}\n",
    "\\newcommand{\\njbf}{\\mathbf{f}}\n",
    "\\newcommand{\\njbg}{\\mathbf{g}}\n",
    "\\newcommand{\\njbh}{\\mathbf{h}}\n",
    "\\newcommand{\\njba}{\\mathbf{a}}\n",
    "\\newcommand{\\njbb}{\\mathbf{b}}\n",
    "\\newcommand{\\njbi}{\\mathbf{i}}\n",
    "\\newcommand{\\njbe}{\\mathbf{e}}\n",
    "\\newcommand{\\njbd}{\\mathbf{d}}\n",
    "\\newcommand{\\njbp}{\\mathbf{p}}\n",
    "\\newcommand{\\njbq}{\\mathbf{q}}\n",
    "\\newcommand{\\njbr}{\\mathbf{r}}\n",
    "\\newcommand{\\njby}{\\mathbf{y}}\n",
    "\\newcommand{\\njbv}{\\mathbf{v}}\n",
    "\\newcommand{\\njbw}{\\mathbf{w}}\n",
    "\\newcommand{\\njbx}{\\mathbf{x}}\n",
    "$\n",
    "\n",
    "## Problem 2 <a name=\"p2\"></a>\n",
    "\n",
    "The Dubins car on page 6--9 of the notes (see code [here](https://colab.research.google.com/drive/1_BjMThZMhI8md9s71HfUNqP2I3B8EIdb?usp=sharing)) solved the problem of selecting the required heading rate to steer the vehicle driving at constant speed. Consider the new problem of controlling both the steering angle $\\theta(t)$ with $u_1(t)$ and speed $V(t)$ with $u_2(t)$. The equations of motion are now:\n",
    "\n",
    "$$ \\left.\n",
    "\\begin{array}{l}\n",
    "    \\dot{x}(t)  =  V(t) \\cos \\theta(t) \\\\\n",
    "    \\dot{y}(t)  =  V(t) \\sin \\theta(t) \\\\\n",
    "    \\dot \\theta(t)  =  u_1(t)  \\\\\n",
    "    \\dot V(t)  =  u_2(t) \n",
    "\\end{array} \\right\\} \\quad \\dot \\njbx = \\njbf(\\njbx,\\njbu)\n",
    "$$\n",
    "\n",
    "where $\\theta$ is heading angle wrt the $x$ axis, $V(t)$ is speed, and $u_1(t)$, $u_2(t)$ are the control inputs.\n",
    "\n",
    "**The objective**: drive from point $A$ to $B$ (assumed to be feasible) in (nearly) minimum time:\n",
    "$$\n",
    "    \\min J = \\int_{0}^{t_f} (1+\\alpha (u_1(t)^2 + u_2(t)^2)) dt\n",
    "$$\n",
    "where $\\alpha \\ll 1$ is a suitable weighting factor and\n",
    "$t_f$ is free.\n",
    "\n",
    "1. Form the Hamiltonian for this system and derive/state the resulting necessary conditions. What are the boundary conditions here?\n",
    "\n",
    "2. Extend the provided Pyomo code to solve these necessary conditions and optimize the vehicle path. \n",
    "\n",
    "  Use $\\alpha=0.1$ and assume that \n",
    "$x(0)=y(0)=0$, $\\theta(0)=\\theta(t_f)=0$, $V(0)=4$, $V(t_f)=0$, and $x(t_f)=y(t_f)=10$.\n",
    "\n",
    "3. How long does it take the vehicle to turn around?\n",
    "$x(0)=y(0)=0$, $x(t_f)=1,y(t_f)=0$, $\\theta(0)=0$, $\\theta(t_f)=\\pi$, $V(0)=0$, $V(t_f)=0$. How does the optimal controller achieve this maneuver?"
   ]
  },
  {
   "cell_type": "markdown",
   "metadata": {},
   "source": [
    "## Problem 3 <a name=\"p3\"></a>\n",
    "\n",
    "We want to find the curve $x^*(t)$ that minimizes the functional\n",
    "$$\n",
    "J(x) = \\int_0^1 \\left[ \\frac{1}{2}\\dot{x}^2(t) + 3x(t)\\dot{x}(t) + 2x^2(t) + 4x(t) \\right]dt\n",
    "$$\n",
    "and passes through the points $x(0)=1$ and $x(1)=5$.\n",
    "\n",
    "Please find the solution to this problem using **ALL** these three different methods:\n",
    "\n",
    "1) Analytically\n",
    "2) Solve as an optimization problem, using `pyomo`\n",
    "3) Solve for the necessary conditions, using `pyomo`\n",
    "\n",
    "Plot the results obtained, and confirm that you obtain the same results in the three cases above."
   ]
  },
  {
   "cell_type": "markdown",
   "metadata": {
    "id": "d3Zo5ROWhwKV",
    "tags": []
   },
   "source": [
    "## Problem 4 <a name=\"p4\"></a>\n",
    "\n",
    "Justification of white noise for certain problems. Consider two\n",
    "problems: \n",
    "*   A) Simple first order low-pass filter with band-limited white noise as\n",
    "the input: \n",
    "$y= G(s) w$, so that $S_y(j \\omega) = |G(j \\omega)|^2 S_w (j \\omega)$, and the noise has the PSD\n",
    "$$\n",
    "S_1(\\omega) = \\left\\{ \\begin{array}{ll} A & | \\omega | \\leq \\omega_c \\\\ 0 & | \\omega | > \\omega_c\n",
    "\\end{array} \\right. \\qquad\n",
    "G(s) = \\frac{1}{T_\\omega s + 1}\n",
    "$$\n",
    "\n",
    "*   B) The same low pass system $G(s)$, but with *pure white noise* as the input\n",
    "$$\n",
    "S_2(\\omega) = A,   \\,\\, \\forall \\omega, \\qquad\n",
    "G(s) = \\frac{1}{T_\\omega s + 1}\n",
    "$$\n",
    "\n",
    "Case A seems quite plausible, but the second has an input with\n",
    "infinite variance and so is not physically realizable. \n",
    "However, the white noise assumption simplifies the system analysis\n",
    "significantly, so it is important to see if the assumption is justified.\n",
    "\n",
    "We test this with our two examples above:\n",
    "\n",
    "1.   Sketch (or use Python/Matlab to graph) the noise PSD and $|G(j \\omega)|$ for reasonable values of\n",
    "$T_w$ and $\\omega_c$ (i.e., choose $T_w$ and $\\omega_c$ such that you can verify the statement in part 4) and compare the two cases.\n",
    "\n",
    "2.   Determine $S_y(j \\omega)$ for the two cases. Sketch these too.\n",
    "\n",
    "3.   Determine $E\\{ y^2\\}$ for the two cases\n",
    "\n",
    "3.   Use these results to justify the following statement: **If the input spectrum is flat considerably beyond the system\n",
    "bandwidth, there is little error introduced by assuming that the input\n",
    "spectrum is flat out to infinity.**"
   ]
  },
  {
   "cell_type": "markdown",
   "metadata": {
    "tags": []
   },
   "source": [
    "## Problem 5\n",
    "\n",
    "Find the shaping filter that will shape unit intensity white noise into noise with the spectral density function \n",
    "\n",
    "$$\\Phi(j\\omega) = \\frac{\\omega^2+4}{\\omega^4+6\\omega^2+25}$$"
   ]
  },
  {
   "cell_type": "markdown",
   "metadata": {},
   "source": [
    "## Problem 6\n",
    "Use calculus of variations techniques to find the curve that\n",
    "optimizes the functional:\n",
    "$$\n",
    "J=\\int_0^T (t\\dot x + \\dot x^2) \\, dt\n",
    "$$\n",
    "subject to $x(0)=1$ and $x(T)=10$, but $T$ is free."
   ]
  },
  {
   "cell_type": "markdown",
   "metadata": {},
   "source": [
    "## Problem 7\n",
    "\n",
    "For the discrete linear state space system\n",
    "\n",
    "$$x_{k+1}=\\frac{1}{2}x_k+w_k$$\n",
    "$$z_{k+1}=3x_{k+1}+v_{k+1}$$\n",
    "\n",
    "where $w_k$ and $v_k$ are WSS (Wide Sense Stationary), zero mean, uncorrelated white noise processes with $W_k=20$ and $R_k=5$, $E[x_0]=4$ and $E[(x_0-E[x_0])^2]=Q_0=10$:\n",
    "\n",
    "1) Analytically propagate the uncertain system dynamics to find $E[x_{2}]$ and $Q_{2}$. \n",
    "\n",
    "2) Analytically compute the steady state values of $E[z]$ and $E[(z-E[z])^2]$.\n"
   ]
  },
  {
   "cell_type": "markdown",
   "metadata": {
    "id": "7upQb1pJItJf"
   },
   "source": [
    "# Lab\n",
    "\n",
    "## Theoretical explanation: Accelerometer Calibration\n",
    "\n",
    "An accelerometer measures [specific force](https://en.wikipedia.org/wiki/Specific_force) (i.e., mass-normalized non-gravitational force), or, acceleration relative to free-fall. That is, an accelerometer sitting on a table (with +z pointing up) will report a *positive* acceleration because the normal force of the table is preventing the accelerometer's free-fall. An accelerometer in free-fall will report 0 acceleration.\n",
    "\n",
    "### Measurement Model\n",
    "\n",
    "Measurements coming from an accelerometer can be modeled as\n",
    "\n",
    "$$\n",
    "\\mathbf{y}_\\mathbf{a} = \\mathbf{f} + \\mathbf{b} + \\boldsymbol{\\eta},\n",
    "$$\n",
    "\n",
    "where $\\mathbf{f}=R^\\text{b}_\\text{w}(\\mathbf{a} - \\mathbf{g})$ is the specific force expressed in the body frame, $\\mathbf{a}$ is the linear acceleration experienced by the accelerometer and $\\mathbf{g}$ denotes the gravity vector, both expressed in the world coordinate frame. The $3\\times 3$ matrix $R^\\text{b}_\\text{w}\\in\\text{SO}(3)$ encodes the *attitude*, or orientation, of the accelerometer w.r.t the world frame. Noise in accelerometer readings is captured with $\\boldsymbol{\\eta}\\sim\\mathcal{N}(0,\\Sigma_\\mathbf{a})$ and $\\mathbf{b}$, which is a slowly time-varying bias. Depending on the duration of the experiment, this bias can either be treated as a constant or as a random walk.\n",
    "\n",
    "This probabilistic measurement model is particularly useful in dynamic estimation tasks. However, this model makes the assumption that accelerometer has been calibrated for *misalignment errors* and *scale errors*. During the fabrication process, the accelerometer MEMS circutry must be placed on a die and into the [IC packaging](https://www.silicondesigns.com/tech). If the positioning is not perfect, a cross-axis sensitivity will arise where, e.g., acceleration signals solely in the x-axis will be coupled with the z-axis. Additionally, there may be a multiplicative scale factor error associated with the output of the accelerometer. These errors are captured by the matrix $M$ in the modified measurement model\n",
    "\n",
    "$$\n",
    "\\mathbf{y}_\\mathbf{a} = M\\mathbf{f} + \\mathbf{b} + \\boldsymbol{\\eta},\n",
    "$$\n",
    "\n",
    "where\n",
    "\n",
    "$$\n",
    "M =\n",
    "\\begin{bmatrix}\n",
    "s_x & \\gamma_{xy} & \\gamma_{xz} \\\\\n",
    "\\gamma_{xy} & s_y & \\gamma_{yz} \\\\\n",
    "\\gamma_{zx} & \\gamma_{zy} & s_z\n",
    "\\end{bmatrix},\n",
    "$$\n",
    "\n",
    "and $s_i$ captures scale factor and $\\gamma_{ij}$ captures cross-axis sensitivity. Note that if there is cross-axis sensitivity or scale error, $M=I$.\n",
    "\n",
    "### Calibration\n",
    "\n",
    "Assume that the bias term $\\mathbf{b}$ is constant, which is a valid assumption for short (on the order of a few minutes) experiments. Then, to recover the uncorrupted underlying accelerometer signal $\\mathbf{f}$ from measurements we would simply compute\n",
    "\n",
    "$$\n",
    "\\mathbf{f} = M^{-1}(\\mathbf{y}_\\mathbf{a} - \\mathbf{b}).\n",
    "$$\n",
    "\n",
    "Our task is to find $M$ and $\\mathbf{b}$ through a calibration process. We will use the six-position calibration method [1] commonly employed by autopilots. This not only recovers the die-to-package misalignment, but any small IMU-to-vehicle-body misalignment as well. A screenshot of the accelerometer calibration process of the [Pixhawk autopilot](https://docs.px4.io/master/en/flight_controller/pixhawk4.html) is shown below (see [video](https://youtu.be/91VGmdSlbo4?t=114)).\n",
    "\n",
    "<img src=\"https://docs.px4.io/v1.9.0/assets/qgc/setup/sensor/accelerometer_positions_px4.jpg\" width=\"30%\" />\n",
    "\n",
    "#### Six Position Method\n",
    "\n",
    "This method exploits a signal that can be measured completely in one axis at a time: gravity. By placing the IMU (or whatever it is attached to) in known orientations, we can compare measurements with the expected gravity vector. By minimizing the error between observed and expected according to the measurement model, we can use least squares to estimate the misalignment $M$ and assumed-constant bias $\\mathbf{b}$.\n",
    "\n",
    "The six orientations correspond to an expected gravity vector $\\hat{\\mathbf{f}}_1,\\dots,\\hat{\\mathbf{f}}_6$. For example, if orientation 1 is the IMU aligned with the world frame (z-up), then\n",
    "$$\n",
    "\\hat{\\mathbf{f}}_1 =\n",
    "\\begin{bmatrix}\n",
    "0\\\\0\\\\g\n",
    "\\end{bmatrix}.\n",
    "$$\n",
    "\n",
    "where $g \\approx 9.80665 \\frac{m}{s^2}$. In this lab, we provide you with a `.pkl` file that contains the accelerometer data obtained using the method above with the IMU of a NAZE32, which is a popular flight controller for drones: \n",
    "\n",
    "<img src=\"./assignment2-lab-naze32.png\" alt=\"drawing\" width=\"400\"/>\n",
    "\n",
    "This controller, or any of its variants, is extensively used in [First-Person View drone races](https://www.youtube.com/watch?v=QSZmSNL_0r8&t=13s). "
   ]
  },
  {
   "cell_type": "markdown",
   "metadata": {},
   "source": [
    "## Problems\n",
    "\n",
    "1. Using the measurement model above (ignoring the white noise $\\boldsymbol{\\eta}$), formulate a linear system suitable for least squares estimation in the form of $\\mathbf{z} = A\\mathbf{x}$, where $\\mathbf{z}\\in\\mathbb{R}^{3n}$ is a stacked vector of *expected* accelerometer measurements, $A\\in\\mathbb{R}^{3n\\times12}$ is a matrix that depends on the corresponding *observed* accelerometer measurements, and $\\mathbf{x}\\in\\mathbb{R}^{12}$ is a vector of unknowns. Hint: let $\\bar{M}=M^{-1}$ and $\\bar{\\mathbf{b}}=M^{-1}\\mathbf{b}$ and use the [vectorization](https://en.wikipedia.org/wiki/Vectorization_(mathematics)) property $\\mathrm{vec}(CD)=(D^\\top\\otimes I)\\mathrm{vec}(C)$ to find $A$ and $\\mathbf{x}$ (vectorized $\\bar{M}$ stacked with $\\bar{\\mathbf{b}}$).\n",
    "\n",
    "\n",
    "2. Write a calibration routine using the provided Python skeleton code, and obtain $\\bar{M}$ and $\\bar{\\boldsymbol{b}}$.  Obtain also the following plots (12 plots in total):\n",
    "    * 6 plots (one for each orientation) showing the observed accelerometer measurements (before calibration) and the expected accelerometer measurement \n",
    "    * 6 plots (one for each orientation) showing the corrected accelerometer measurements (after calibration, using $\\bar{M}$ and $\\bar{\\boldsymbol{b}}$) and the expected accelerometer measurement "
   ]
  },
  {
   "cell_type": "code",
   "execution_count": null,
   "metadata": {},
   "outputs": [],
   "source": [
    "import pickle\n",
    "import numpy as np\n",
    "import matplotlib.pyplot as plt\n",
    "\n",
    "# list of the six orientations\n",
    "orientations = [\"z_up\", \"z_down\", \"x_up\", \"x_down\", \"y_up\", \"y_down\"]\n",
    "\n",
    "#gravity constant\n",
    "g = 9.80665 \n",
    "\n",
    "#read the pkl file\n",
    "with open('lab_imu_data.pkl', 'rb') as f:\n",
    "    all_data = pickle.load(f)\n",
    "    for key in all_data:\n",
    "        all_data[key]=all_data[key].T\n",
    "\n",
    "#...."
   ]
  },
  {
   "cell_type": "markdown",
   "metadata": {},
   "source": [
    "---\n",
    "### References\n",
    "\n",
    "\n",
    "[1] STMicroelectronics, \"[AN4508: Parameters and calibration of a low-g 3-axis accelerometer](https://www.st.com/content/ccc/resource/technical/document/application_note/a0/f0/a0/62/3b/69/47/66/DM00119044.pdf/files/DM00119044.pdf/jcr:content/translations/en.DM00119044.pdf)\", 2014."
   ]
  }
 ],
 "metadata": {
  "codeCellConfig": {
   "tabSize": 2
  },
  "colab": {
   "collapsed_sections": [],
   "name": "hw2.ipynb",
   "provenance": []
  },
  "kernelspec": {
   "display_name": "Python 3 (ipykernel)",
   "language": "python",
   "name": "python3"
  },
  "language_info": {
   "codemirror_mode": {
    "name": "ipython",
    "version": 3
   },
   "file_extension": ".py",
   "mimetype": "text/x-python",
   "name": "python",
   "nbconvert_exporter": "python",
   "pygments_lexer": "ipython3",
   "version": "3.8.10"
  }
 },
 "nbformat": 4,
 "nbformat_minor": 4
}
